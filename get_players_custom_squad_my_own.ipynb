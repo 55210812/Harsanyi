{
 "cells": [
  {
   "cell_type": "code",
   "execution_count": 1,
   "id": "d491b947e77b835c",
   "metadata": {
    "ExecuteTime": {
     "end_time": "2025-02-03T05:44:07.365899Z",
     "start_time": "2025-02-03T05:44:07.198234Z"
    },
    "collapsed": false
   },
   "outputs": [
    {
     "data": {
      "text/plain": [
       "'/data/renqihan/interaction_code_base/src'"
      ]
     },
     "execution_count": 1,
     "metadata": {},
     "output_type": "execute_result"
    }
   ],
   "source": [
    "import numpy as np\n",
    "\n",
    "%pwd"
   ]
  },
  {
   "cell_type": "code",
   "execution_count": 2,
   "id": "a2ffd59861695ac9",
   "metadata": {
    "ExecuteTime": {
     "end_time": "2025-02-03T05:44:14.057620Z",
     "start_time": "2025-02-03T05:44:10.788388Z"
    }
   },
   "outputs": [
    {
     "name": "stderr",
     "output_type": "stream",
     "text": [
      "  % Total    % Received % Xferd  Average Speed   Time    Time     Time  Current\n",
      "                                 Dload  Upload   Total   Spent    Left  Speed\n",
      "  0     0    0     0    0     0      0      0 --:--:--  0:00:02 --:--:--     0"
     ]
    },
    {
     "name": "stdout",
     "output_type": "stream",
     "text": [
      "<!doctype html><html itemscope=\"\" itemtype=\"http://schema.org/WebPage\" lang=\"zh-HK\"><head><meta content=\"text/html; charset=UTF-8\" http-equiv=\"Content-Type\"><meta content=\"/images/branding/googleg/1x/googleg_standard_color_128dp.png\" itemprop=\"image\"><title>Google</title><script nonce=\"CUnQUo7HLlgrssm22CUwlA\">(function(){var _g={kEI:'rVegZ735Oemivr0P98eD8A8',kEXPI:'0,202746,606135,2891417,1086,538661,2872,2891,43028,30022,16105,344796,212051,26408,20674,30911,15671,5225084,766,8834933,23934161,4043709,25228681,117307,5797,15164,8181,49430,21666,6758,23878,9139,4600,328,6225,1117,26873,5633,687,29855,1346,13703,15634,12129,2392,3290,3491,33,4678,4363,17667,10672,14559,11267,3853,41,2956,2651,7556,476,1,1720,5021,4105,307,4148,8994,5853,839,967,4946,621,1525,761,3856,5774,4310,2326,1310,738,4721,78,1545,1623,143,1207,9610,820,101,3798,1633,1,237,5446,1832,621,1904,131,233,1864,3,3,698,460,41,2,416,1845,91,595,35,2094,172,6,755,393,714,1768,1275,55,560,464,1,215,612,1,81,140,1,37,667,1895,1716,3146,71,65,569,154,3,1128,1081,214,1013,1248,503,142,3302,45,2351,354,1029,15,139,3,320,355,435,1571,78,3,462,808,679,64,2206,894,3,3,920,2,429,12,362,1038,3,2,1,2,2,2,3,769,4,670,230,438,289,320,289,302,9,58,159,685,135,170,63,333,325,11,347,49,161,132,2,1319,698,312,35,289,510,16,777,210,22,447,4,73,942,419,149,186,269,1,30,197,3,214,106,493,383,456,4,385,420,449,177,229,988,734,51,409,323,125,27,653,875,21366365,18,2013,40,2487,8,3873,12,1754,1198,8021160',kBL:'0iJ7',kOPI:89978449};(function(){var a;((a=window.google)==null?0:a.stvsc)?google.kEI=_g.kEI:window.google=_g;}).call(this);})();(function(){google.sn='webhp';google.kHL='zh-HK';})();(function(){\n",
      "var g=this||self;function k(){return window.google&&window.google.kOPI||null};var l,m=[];function n(a){for(var b;a&&(!a.getAttribute||!(b=a.getAttribute(\"eid\")));)a=a.parentNode;return b||l}function p(a){for(var b=null;a&&(!a.getAttribute||!(b=a.getAttribute(\"leid\")));)a=a.parentNode;return b}function q(a){/^http:/i.test(a)&&window.location.protocol===\"https:\"&&(google.ml&&google.ml(Error(\"a\"),!1,{src:a,glmm:1}),a=\"\");return a}\n",
      "function r(a,b,d,c,h){var e=\"\";b.search(\"&ei=\")===-1&&(e=\"&ei=\"+n(c),b.search(\"&lei=\")===-1&&(c=p(c))&&(e+=\"&lei=\"+c));var f=b.search(\"&cshid=\")===-1&&a!==\"slh\";c=\"&zx=\"+Date.now().toString();g._cshid&&f&&(c+=\"&cshid=\"+g._cshid);(d=d())&&(c+=\"&opi=\"+d);return\"/\"+(h||\"gen_204\")+\"?atyp=i&ct=\"+String(a)+\"&cad=\"+(b+e+c)};l=google.kEI;google.getEI=n;google.getLEI=p;google.ml=function(){return null};google.log=function(a,b,d,c,h,e){e=e===void 0?k:e;d||(d=r(a,b,e,c,h));if(d=q(d)){a=new Image;var f=m.length;m[f]=a;a.onerror=a.onload=a.onabort=function(){delete m[f]};a.src=d}};google.logUrl=function(a,b){b=b===void 0?k:b;return r(\"\",a,b)};}).call(this);(function(){google.y={};google.sy=[];var d;(d=google).x||(d.x=function(a,b){if(a)var c=a.id;else{do c=Math.random();while(google.y[c])}google.y[c]=[a,b];return!1});var e;(e=google).sx||(e.sx=function(a){google.sy.push(a)});google.lm=[];var f;(f=google).plm||(f.plm=function(a){google.lm.push.apply(google.lm,a)});google.lq=[];var g;(g=google).load||(g.load=function(a,b,c){google.lq.push([[a],b,c])});var h;(h=google).loadAll||(h.loadAll=function(a,b){google.lq.push([a,b])});google.bx=!1;var k;(k=google).lx||(k.lx=function(){});var l=[],m;(m=google).fce||(m.fce=function(a,b,c,n){l.push([a,b,c,n])});google.qce=l;}).call(this);google.f={};(function(){\n",
      "document.documentElement.addEventListener(\"submit\",function(b){var a;if(a=b.target){var c=a.getAttribute(\"data-submitfalse\");a=c===\"1\"||c===\"q\"&&!a.elements.q.value?!0:!1}else a=!1;a&&(b.preventDefault(),b.stopPropagation())},!0);document.documentElement.addEventListener(\"click\",function(b){var a;a:{for(a=b.target;a&&a!==document.documentElement;a=a.parentElement)if(a.tagName===\"A\"){a=a.getAttribute(\"data-nohref\")===\"1\";break a}a=!1}a&&b.preventDefault()},!0);}).call(this);</script><style>#gbar,#guser{font-size:13px;padding-top:1px !important;}#gbar{height:22px}#guser{padding-bottom:7px !important;text-align:right}.gbh,.gbd{border-top:1px solid #c9d7f1;font-size:1px}.gbh{height:0;position:absolute;top:24px;width:100%}@media all{.gb1{height:22px;margin-right:.5em;vertical-align:top}#gbar{float:left}}a.gb1,a.gb4{text-decoration:underline !important}a.gb1,a.gb4{color:#00c !important}.gbi .gb4{color:#dd8e27 !important}.gbf .gb4{color:#900 !important}\n",
      "</style><style>body,td,a,p,.h{font-family:sans-serif}body{margin:0;overflow-y:scroll}#gog{padding:3px 8px 0}td{line-height:.8em}.gac_m td{line-height:17px}form{margin-bottom:20px}.h{color:#1967d2}em{color:#c5221f;font-style:normal;font-weight:normal}a em{text-decoration:underline}.lst{height:25px;width:496px}.gsfi,.lst{font:18px sans-serif}.gsfs{font:17px sans-serif}.ds{display:inline-box;display:inline-block;margin:3px 0 4px;margin-left:4px}input{font-family:inherit}body{background:#fff;color:#000}a{color:#681da8;text-decoration:none}a:hover,a:active{text-decoration:underline}.fl a{color:#1967d2}a:visited{color:#681da8}.sblc{padding-top:5px}.sblc a{display:block;margin:2px 0;margin-left:13px;font-size:11px}.lsbb{background:#f8f9fa;border:solid 1px;border-color:#dadce0 #70757a #70757a #dadce0;height:30px}.lsbb{display:block}#WqQANb a{display:inline-block;margin:0 12px}.lsb{background:url(/images/nav_logo229.png) 0 -261px repeat-x;color:#000;border:none;cursor:pointer;height:30px;margin:0;outline:0;font:15px sans-serif;vertical-align:top}.lsb:active{background:#dadce0}.lst:focus{outline:none}</style><script nonce=\"CUnQUo7HLlgrssm22CUwlA\">(function(){window.google.erd={jsr:1,bv:2161,de:true,dpf:'aDrC4Nsd5XcW9atE3ltFhrSJeLMY7xckrJud7Jofq1U'};\n",
      "var g=this||self;var k,l=(k=g.mei)!=null?k:1,m,p=(m=g.diel)!=null?m:0,q,r=(q=g.sdo)!=null?q:!0,t=0,u,w=google.erd,x=w.jsr;google.ml=function(a,b,d,n,e){e=e===void 0?2:e;b&&(u=a&&a.message);d===void 0&&(d={});d.cad=\"ple_\"+google.ple+\".aple_\"+google.aple;if(google.dl)return google.dl(a,e,d,!0),null;b=d;if(x<0){window.console&&console.error(a,b);if(x===-2)throw a;b=!1}else b=!a||!a.message||a.message===\"Error loading script\"||t>=l&&!n?!1:!0;if(!b)return null;t++;d=d||{};b=encodeURIComponent;var c=\"/gen_204?atyp=i&ei=\"+b(google.kEI);google.kEXPI&&(c+=\"&jexpid=\"+b(google.kEXPI));c+=\"&srcpg=\"+b(google.sn)+\"&jsr=\"+b(w.jsr)+\n",
      "\"&bver=\"+b(w.bv);w.dpf&&(c+=\"&dpf=\"+b(w.dpf));var f=a.lineNumber;f!==void 0&&(c+=\"&line=\"+f);var h=a.fileName;h&&(h.indexOf(\"-extension:/\")>0&&(e=3),c+=\"&script=\"+b(h),f&&h===window.location.href&&(f=document.documentElement.outerHTML.split(\"\\n\")[f],c+=\"&cad=\"+b(f?f.substring(0,300):\"No script found.\")));google.ple&&google.ple===1&&(e=2);c+=\"&jsel=\"+e;for(var v in d)c+=\"&\",c+=b(v),c+=\"=\",c+=b(d[v]);c=c+\"&emsg=\"+b(a.name+\": \"+a.message);c=c+\"&jsst=\"+b(a.stack||\"N/A\");c.length>=12288&&(c=c.substr(0,12288));a=c;n||google.log(0,\"\",a);return a};window.onerror=function(a,b,d,n,e){u!==a&&(a=e instanceof Error?e:Error(a),d===void 0||\"lineNumber\"in a||(a.lineNumber=d),b===void 0||\"fileName\"in a||(a.fileName=b),google.ml(a,!1,void 0,!1,a.name===\"SyntaxError\"||a.message.substring(0,11)===\"SyntaxError\"||a.message.indexOf(\"Script error\")!==-1?3:p));u=null;r&&t>=l&&(window.onerror=null)};})();</script></head><body bgcolor=\"#fff\"><script nonce=\"CUnQUo7HLlgrssm22CUwlA\">(function(){var src='/images/nav_logo229.png';var iesg=false;document.body.onload = function(){window.n && window.n();if (document.images){new Image().src=src;}\n",
      "if (!iesg){document.f&&document.f.q.focus();document.gbqf&&document.gbqf.q.focus();}\n",
      "}\n",
      "})();</script><div id=\"mngb\"><div id=gbar><nobr><b class=gb1>&#25628;&#23563;</b> <a class=gb1 href=\"https://www.google.com/imghp?hl=zh-TW&tab=wi\">&#22294;&#29255;</a> <a class=gb1 href=\"https://maps.google.com.hk/maps?hl=zh-TW&tab=wl\">&#22320;&#22294;</a> <a class=gb1 href=\"https://play.google.com/?hl=zh-TW&tab=w8\">Play</a> <a class=gb1 href=\"https://www.youtube.com/?tab=w1\">YouTube</a> <a class=gb1 href=\"https://news.google.com/?tab=wn\">&#26032;&#32862;</a> <a class=gb1 href=\"https://mail.google.com/mail/?tab=wm\">Gmail</a> <a class=gb1 href=\"https://drive.google.com/?tab=wo\">&#38642;&#31471;&#30828;&#30879;</a> <a class=gb1 style=\"text-decoration:none\" href=\"https://www.google.com.hk/intl/zh-TW/about/products?tab=wh\"><u>&#26356;&#22810;</u> &raquo;</a></nobr></div><div id=guser width=100%><nobr><span id=gbn class=gbi></span><span id=gbf class=gbf></span><span id=gbe></span><a href=\"http://www.google.com.hk/history/optout?hl=zh-TW\" class=gb4>&#32178;&#38913;&#35352;&#37636;</a> | <a  href=\"/preferences?hl=zh-TW\" class=gb4>&#35373;&#23450;</a> | <a target=_top id=gb_70 href=\"https://accounts.google.com/ServiceLogin?hl=zh-TW&passive=true&continue=https://www.google.com/&ec=GAZAAQ\" class=gb4>&#30331;&#20837;</a></nobr></div><div class=gbh style=left:0></div><div class=gbh style=right:0></div></div><center><br clear=\"all\" id=\"lgpd\"><div id=\"XjhHGf\"><img alt=\"Google\" height=\"92\" src=\"/images/branding/googlelogo/1x/googlelogo_white_background_color_272x92dp.png\" style=\"padding:28px 0 14px\" width=\"272\" id=\"hplogo\"><br><br></div><form action=\"/search\" name=\"f\"><table cellpadding=\"0\" cellspacing=\"0\"><tr valign=\"top\"><td width=\"25%\">&nbsp;</td><td align=\"center\" nowrap=\"\"><input name=\"ie\" value=\"ISO-8859-1\" type=\"hidden\"><input value=\"zh-HK\" name=\"hl\" type=\"hidden\"><input name=\"source\" type=\"hidden\" value=\"hp\"><input name=\"biw\" type=\"hidden\"><input name=\"bih\" type=\"hidden\"><div class=\"ds\" style=\"height:32px;margin:4px 0\"><input class=\"lst\" style=\"margin:0;padding:5px 8px 0 6px;vertical-align:top;color:#000\" autocomplete=\"off\" value=\"\" title=\"Google &#25628;&#23563;\" maxlength=\"2048\" name=\"q\" size=\"57\"></div><br style=\"line-height:0\"><span class=\"ds\"><span class=\"lsbb\"><input class=\"lsb\" value=\"Google &#25628;&#23563;\" name=\"btnG\" type=\"submit\"></span></span><span class=\"ds\"><span class=\"lsbb\"><input class=\"lsb\" id=\"tsuid_rVegZ735Oemivr0P98eD8A8_1\" value=\"&#22909;&#25163;&#27683;\" name=\"btnI\" type=\"submit\"><script nonce=\"CUnQUo7HLlgrssm22CUwlA\">(function(){var id='tsuid_rVegZ735Oemivr0P98eD8A8_1';document.getElementById(id).onclick = function(){if (this.form.q.value){this.checked = 1;if (this.form.iflsig)this.form.iflsig.disabled = false;}\n",
      "else top.location='/doodles/';};})();</script><input value=\"ACkRmUkAAAAAZ6BlvaAxGQHCzt26PdwVOFOuvDjwljeV\" name=\"iflsig\" type=\"hidden\"></span></span></td><td class=\"fl sblc\" align=\"left\" nowrap=\"\" width=\"25%\"><a href=\"/advanced_search?hl=zh-HK&amp;authuser=0\">&#36914;&#38542;&#25628;&#23563;</a></td></tr></table><input id=\"gbv\" name=\"gbv\" type=\"hidden\" value=\"1\"><script nonce=\"CUnQUo7HLlgrssm22CUwlA\">(function(){var a,b=\"1\";if(document&&document.getElementById)if(typeof XMLHttpRequest!=\"undefined\")b=\"2\";else if(typeof ActiveXObject!=\"undefined\"){var c,d,e=[\"MSXML2.XMLHTTP.6.0\",\"MSXML2.XMLHTTP.3.0\",\"MSXML2.XMLHTTP\",\"Microsoft.XMLHTTP\"];for(c=0;d=e[c++];)try{new ActiveXObject(d),b=\"2\"}catch(h){}}a=b;if(a==\"2\"&&location.search.indexOf(\"&gbv=2\")==-1){var f=google.gbvu,g=document.getElementById(\"gbv\");g&&(g.value=a);f&&window.setTimeout(function(){location.href=f},0)};}).call(this);</script></form><div style=\"font-size:83%;min-height:3.5em\"><br><div id=\"gws-output-pages-elements-homepage_additional_languages__als\"><style>#gws-output-pages-elements-homepage_additional_languages__als{font-size:small;margin-bottom:24px}#SIvCob{color:#474747;display:inline-block;line-height:28px;}#SIvCob a{padding:0 3px;}.H6sW5{display:inline-block;margin:0 2px;white-space:nowrap}.z4hgWe{display:inline-block;margin:0 2px}</style><div id=\"SIvCob\">Google &#36879;&#36942;&#20197;&#19979;&#35486;&#35328;&#25552;&#20379;&#65306;  <a href=\"https://www.google.com/setprefs?sig=0_mfIV63GjUJ0ItkyqVMqXdKyM9y4%3D&amp;hl=zh-CN&amp;source=homepage&amp;sa=X&amp;ved=0ahUKEwj9g4iP5qaLAxVpka8BHffjAP4Q2ZgBCAY\">&#31616;&#20307;&#20013;&#25991;</a>    <a href=\"https://www.google.com/setprefs?sig=0_mfIV63GjUJ0ItkyqVMqXdKyM9y4%3D&amp;hl=en&amp;source=homepage&amp;sa=X&amp;ved=0ahUKEwj9g4iP5qaLAxVpka8BHffjAP4Q2ZgBCAc\">English</a>  </div></div></div><span id=\"footer\"><div style=\"font-size:10pt\"><div style=\"margin:19px auto;text-align:center\" id=\"WqQANb\"><a href=\"/intl/zh-TW/ads/\">&#24291;&#21578;</a><a href=\"/intl/zh-TW/about.html\">&#38364;&#26044; Google</a><a href=\"https://www.google.com/setprefdomain?prefdom=HK&amp;prev=https://www.google.com.hk/&amp;sig=K_GJRgb2p5zM9khWRCMRWQ-4rameI%3D\">Google.com.hk</a></div></div><p style=\"font-size:8pt;color:#70757a\">&copy; 2025 - <a href=\"/intl/zh-TW/policies/privacy/\">&#31169;&#38577;&#27402;&#25919;&#31574;</a> - <a href=\"/intl/zh-TW/policies/terms/\">&#26781;&#27454;</a></p></span></center><script nonce=\"CUnQUo7HLlgrssm22CUwlA\">(function(){window.google.cdo={height:757,width:1440};(function(){var a=window.innerWidth,b=window.innerHeight;if(!a||!b){var c=window.document,d=c.compatMode==\"CSS1Compat\"?c.documentElement:c.body;a=d.clientWidth;b=d.clientHeight}if(a&&b&&(a!=google.cdo.width||b!=google.cdo.height)){var e=google,f=e.log,g=\"/client_204?&atyp=i&biw=\"+a+\"&bih=\"+b+\"&ei=\"+google.kEI,h=\"\",k=window.google&&window.google.kOPI||null;k&&(h+=\"&opi=\"+k);f.call(e,\"\",\"\",g+h)};}).call(this);})();</script>   <script nonce=\"CUnQUo7HLlgrssm22CUwlA\">(function(){google.xjs={basecomb:'/xjs/_/js/k\\x3dxjs.hp.en.dDfO4tQshsA.es5.O/ck\\x3dxjs.hp.17lgOhZ7xuQ.L.X.O/am\\x3dBAAAAAAAQAAAAAAAAAAAAAAAAAAAAAAAAAAAAAAAAAAAAAgCAAAAAAAAAAAOAGAaAABAAAABAgAAAAAAAAAAAAAhAQAoAAgEAAAA8R0BgABYBACAFw/d\\x3d1/ed\\x3d1/dg\\x3d0/ujg\\x3d1/rs\\x3dACT90oEvJyEZPeimFXo9NnUDbTzducuRrg',basecss:'/xjs/_/ss/k\\x3dxjs.hp.17lgOhZ7xuQ.L.X.O/am\\x3dBAAAAAAAQAAAAAAAAAAAAAAAAAAAAAAAAAAAAAAAAAAAAAACAAAAAAAAAAAAAGACAABAAAABAgAAAAAAAAAAAAAhAQAoAAgE/rs\\x3dACT90oHcaz-fVUWl5V-zJEJH21L1yrbqAQ',basejs:'/xjs/_/js/k\\x3dxjs.hp.en.dDfO4tQshsA.es5.O/am\\x3dAAAAAAAAAAAAAAAAAAAAAAAAAAAAAAAAAAAAAAAAAAAAAAgAAAAAAAAAAAAOAAAYAAAAAAAAAAAAAAAAAAAAAAAAAAAAAAAAAAAA8R0BgABYBACAFw/dg\\x3d0/rs\\x3dACT90oFNS62fH_I-HjEIFqz4MxXoB2WjCQ',excm:[]};})();</script>        <script nonce=\"CUnQUo7HLlgrssm22CUwlA\">(function(){var u='/xjs/_/js/k\\x3dxjs.hp.en.dDfO4tQshsA.es5.O/am\\x3dAAAAAAAAAAAAAAAAAAAAAAAAAAAAAAAAAAAAAAAAAAAAAAgAAAAAAAAAAAAOAAAYAAAAAAAAAAAAAAAAAAAAAAAAAAAAAAAAAAAA8R0BgABYBACAFw/d\\x3d1/ed\\x3d1/dg\\x3d3/rs\\x3dACT90oFNS62fH_I-HjEIFqz4MxXoB2WjCQ/m\\x3dsb_he,d';var st=1;var amd=1000;var mmd=0;var pod=true;\n",
      "var e=this||self;function f(){var a,b,d;if(b=a=(b=window.google)==null?void 0:(d=b.ia)==null?void 0:d.r.B2Jtyd)b=a.m,b=b===1||b===5;return b&&a.cbfd!=null&&a.cbvi!=null?a:void 0};function g(){var a=[u];if(!google.dp){for(var b=0;b<a.length;b++){var d=a[b],c=document.createElement(\"link\");c.as=\"script\";c.href=d;c.rel=\"preload\";document.body.appendChild(c)}google.dp=!0}};google.ps===void 0&&(google.ps=[]);function h(){var a=u,b=function(){};google.lx=google.stvsc?b:function(){k(a);google.lx=b};google.bx||google.lx()}function l(a,b){b&&(a.src=b);var d=a.onload;a.onload=function(c){d&&d(c);google.ps=google.ps.filter(function(C){return a!==C})};google.ps.push(a);document.body.appendChild(a)}google.as=l;function k(a){google.timers&&google.timers.load&&google.tick&&google.tick(\"load\",\"xjsls\");var b=document.createElement(\"script\");b.onerror=function(){google.ple=1};b.onload=function(){google.ple=0};google.xjsus=void 0;l(b,a);google.aple=-1;google.dp=!0};function m(a){var b=a.getAttribute(\"jscontroller\");return(b===\"UBXHI\"||b===\"R3fhkb\"||b===\"TSZEqd\")&&a.hasAttribute(\"data-src\")}function n(){for(var a=document.getElementsByTagName(\"img\"),b=0,d=a.length;b<d;b++){var c=a[b];if(c.hasAttribute(\"data-lzy_\")&&Number(c.getAttribute(\"data-atf\"))&1&&!m(c))return!0}return!1}for(var p=document.getElementsByTagName(\"img\"),q=0,r=p.length;q<r;++q){var t=p[q];Number(t.getAttribute(\"data-atf\"))&1&&m(t)&&(t.src=t.getAttribute(\"data-src\"))};var w,x,y,z,A,B;function D(){google.xjsu=u;e._F_jsUrl=u;A=function(){h()};w=!1;x=(st===1||st===3)&&!!google.caft&&!n();y=f();z=(st===2||st===3)&&!!y&&!n();B=pod}function E(){w||x||z||(A(),w=!0)}setTimeout(function(){google&&google.tick&&google.timers&&google.timers.load&&google.tick(\"load\",\"xjspls\");D();if(x||z){if(x){var a=function(){x=!1;E()};google.caft(a);window.setTimeout(a,amd)}z&&(a=function(){z=!1;E()},y.cbvi.push(a),window.setTimeout(a,mmd));B&&(w||g())}else A()},0);})();window._ = window._ || {};window._DumpException = _._DumpException = function(e){throw e;};window._s = window._s || {};_s._DumpException = _._DumpException;window._qs = window._qs || {};_qs._DumpException = _._DumpException;(function(){var t=[4,16777216,0,0,0,0,0,0,0,2080,0,59768833,270164160,589825,8208,32,0,295936,8422016,1,73201,1138946,96256];window._F_toggles = window._xjs_toggles = t;})();window._F_installCss = window._F_installCss || function(css){};(function(){google.jl={bfl:0,dw:false,ine:false,ubm:false,uwp:true,vs:false};})();(function(){var pmc='{\\x22d\\x22:{},\\x22sb_he\\x22:{\\x22agen\\x22:false,\\x22cgen\\x22:false,\\x22client\\x22:\\x22heirloom-hp\\x22,\\x22dh\\x22:true,\\x22ds\\x22:\\x22\\x22,\\x22fl\\x22:true,\\x22host\\x22:\\x22google.com\\x22,\\x22msgs\\x22:{\\x22cibl\\x22:\\x22\\\\u6e05\\\\u9664\\\\u641c\\\\u5c0b\\x22,\\x22dym\\x22:\\x22\\\\u4f60\\\\u662f\\\\u4e0d\\\\u662f\\\\u8981\\\\u67e5\\\\uff1a\\x22,\\x22lcky\\x22:\\x22\\\\u597d\\\\u624b\\\\u6c23\\x22,\\x22lml\\x22:\\x22\\\\u77ad\\\\u89e3\\\\u8a73\\\\u60c5\\x22,\\x22psrc\\x22:\\x22\\\\u5df2\\\\u5f9e\\\\u60a8\\\\u7684\\\\u300c\\\\u003Ca href\\x3d\\\\\\x22/history\\\\\\x22\\\\u003E\\\\u7db2\\\\u9801\\\\u8a18\\\\u9304\\\\u003C/a\\\\u003E\\\\u300d\\\\u4e2d\\\\u79fb\\\\u9664\\\\u9019\\\\u7b46\\\\u641c\\\\u5c0b\\\\u8a18\\\\u9304\\x22,\\x22psrl\\x22:\\x22\\\\u79fb\\\\u9664\\x22,\\x22sbit\\x22:\\x22\\\\u4ee5\\\\u5716\\\\u641c\\\\u5c0b\\x22,\\x22srch\\x22:\\x22Google \\\\u641c\\\\u5c0b\\x22},\\x22ovr\\x22:{},\\x22pq\\x22:\\x22\\x22,\\x22rfs\\x22:[],\\x22stok\\x22:\\x22RMaMHJ8gYVV8fWDjMMcspShq_Zw\\x22}}';google.pmc=JSON.parse(pmc);})();(function(){var b=function(a){var c=0;return function(){return c<a.length?{done:!1,value:a[c++]}:{done:!0}}};\n",
      "var e=this||self;var g,h;a:{for(var k=[\"CLOSURE_FLAGS\"],l=e,n=0;n<k.length;n++)if(l=l[k[n]],l==null){h=null;break a}h=l}var p=h&&h[610401301];g=p!=null?p:!1;var q,r=e.navigator;q=r?r.userAgentData||null:null;function t(a){return g?q?q.brands.some(function(c){return(c=c.brand)&&c.indexOf(a)!=-1}):!1:!1}function u(a){var c;a:{if(c=e.navigator)if(c=c.userAgent)break a;c=\"\"}return c.indexOf(a)!=-1};function v(){return g?!!q&&q.brands.length>0:!1}function w(){return u(\"Safari\")&&!(x()||(v()?0:u(\"Coast\"))||(v()?0:u(\"Opera\"))||(v()?0:u(\"Edge\"))||(v()?t(\"Microsoft Edge\"):u(\"Edg/\"))||(v()?t(\"Opera\"):u(\"OPR\"))||u(\"Firefox\")||u(\"FxiOS\")||u(\"Silk\")||u(\"Android\"))}function x(){return v()?t(\"Chromium\"):(u(\"Chrome\")||u(\"CriOS\"))&&!(v()?0:u(\"Edge\"))||u(\"Silk\")}function y(){return u(\"Android\")&&!(x()||u(\"Firefox\")||u(\"FxiOS\")||(v()?0:u(\"Opera\"))||u(\"Silk\"))};var z=v()?!1:u(\"Trident\")||u(\"MSIE\");y();x();w();var A=!z&&!w();function D(a){if(/-[a-z]/.test(\"ved\"))return null;if(A&&a.dataset){if(y()&&!(\"ved\"in a.dataset))return null;a=a.dataset.ved;return a===void 0?null:a}return a.getAttribute(\"data-\"+\"ved\".replace(/([A-Z])/g,\"-$1\").toLowerCase())};var E=[],F=null;function G(a){a=a.target;var c=performance.now(),f=[],H=f.concat,d=E;if(!(d instanceof Array)){var m=typeof Symbol!=\"undefined\"&&Symbol.iterator&&d[Symbol.iterator];if(m)d=m.call(d);else if(typeof d.length==\"number\")d={next:b(d)};else throw Error(\"b`\"+String(d));for(var B=[];!(m=d.next()).done;)B.push(m.value);d=B}E=H.call(f,d,[c]);if(a&&a instanceof HTMLElement)if(a===F){if(c=E.length>=4)c=(E[E.length-1]-E[E.length-4])/1E3<5;if(c){c=google.getEI(a);a.hasAttribute(\"data-ved\")?f=a?D(a)||\"\":\"\":f=(f=\n",
      "a.closest(\"[data-ved]\"))?D(f)||\"\":\"\";f=f||\"\";if(a.hasAttribute(\"jsname\"))a=a.getAttribute(\"jsname\");else{var C;a=(C=a.closest(\"[jsname]\"))==null?void 0:C.getAttribute(\"jsname\")}google.log(\"rcm\",\"&ei=\"+c+\"&tgtved=\"+f+\"&jsname=\"+(a||\"\"))}}else F=a,E=[c]}window.document.addEventListener(\"DOMContentLoaded\",function(){document.body.addEventListener(\"click\",G)});}).call(this);</script></body></html>"
     ]
    },
    {
     "name": "stderr",
     "output_type": "stream",
     "text": [
      "100 19779    0 19779    0     0   6097      0 --:--:--  0:00:03 --:--:--  6097\n"
     ]
    },
    {
     "data": {
      "text/plain": [
       "0"
      ]
     },
     "execution_count": 2,
     "metadata": {},
     "output_type": "execute_result"
    }
   ],
   "source": [
    "import os\n",
    "os.system(\"curl https://www.google.com\")"
   ]
  },
  {
   "cell_type": "code",
   "execution_count": 3,
   "id": "babc03b0f483d992",
   "metadata": {
    "ExecuteTime": {
     "end_time": "2025-02-03T05:44:20.201138Z",
     "start_time": "2025-02-03T05:44:16.659198Z"
    }
   },
   "outputs": [
    {
     "name": "stderr",
     "output_type": "stream",
     "text": [
      "/home/renqihan/.conda/envs/sae/lib/python3.10/site-packages/tqdm/auto.py:21: TqdmWarning: IProgress not found. Please update jupyter and ipywidgets. See https://ipywidgets.readthedocs.io/en/stable/user_install.html\n",
      "  from .autonotebook import tqdm as notebook_tqdm\n"
     ]
    }
   ],
   "source": [
    "from utils.global_const import *\n",
    "\n",
    "# Set the cache directory for huggingface hub. [Important!] It should be before the import of transformers\n",
    "os.environ[\"HF_HOME\"] = HF_HOME\n",
    "\n",
    "from interaction.player import get_player_ids_from_word\n",
    "from utils import get_dataset_nlp\n",
    "\n",
    "from transformers import AutoTokenizer\n",
    "from utils import load_json, save_json\n",
    "\n",
    "# dataset_name = \"custom-squad-v1-20250126-train\"\n",
    "# dataset_name = \"custom-squad-v1-20250126-val\"\n",
    "\n",
    "# dataset_name = \"custom-squad-v2-20250202-train\"\n",
    "dataset_name = \"custom-squad-v2-20250202-val\""
   ]
  },
  {
   "cell_type": "markdown",
   "id": "6d2e53ed15a05375",
   "metadata": {},
   "source": [
    "Get player ids for **Pythia** model family.\n",
    "\n",
    "Use the pre-selected player words from `preprocess_squad.ipynb`."
   ]
  },
  {
   "cell_type": "code",
   "execution_count": 7,
   "id": "74c86243035ce32",
   "metadata": {
    "ExecuteTime": {
     "end_time": "2025-01-26T13:49:45.398679Z",
     "start_time": "2025-01-26T13:49:44.976354Z"
    }
   },
   "outputs": [],
   "source": [
    "tokenizer_pythia = AutoTokenizer.from_pretrained(\"EleutherAI/pythia-70m\", add_prefix_space=True)\n",
    "# todo: remember to add add_prefix_space=True!!"
   ]
  },
  {
   "cell_type": "code",
   "execution_count": 8,
   "id": "621132dc3b666ded",
   "metadata": {
    "ExecuteTime": {
     "end_time": "2025-01-26T13:49:48.024184Z",
     "start_time": "2025-01-26T13:49:46.512580Z"
    }
   },
   "outputs": [
    {
     "name": "stderr",
     "output_type": "stream",
     "text": [
      "Map:   0%|          | 0/1434 [00:00<?, ? examples/s]Asking to truncate to max_length but no maximum length is provided and the model has no predefined maximum length. Default to no truncation.\n",
      "Map: 100%|██████████| 1434/1434 [00:01<00:00, 1038.66 examples/s]"
     ]
    },
    {
     "name": "stdout",
     "output_type": "stream",
     "text": [
      "1434\n"
     ]
    },
    {
     "name": "stderr",
     "output_type": "stream",
     "text": [
      "\n"
     ]
    }
   ],
   "source": [
    "dataset_pythia = get_dataset_nlp(dataset_name=dataset_name,\n",
    "                                 mode=\"eval\",\n",
    "                                 tokenizer=tokenizer_pythia,\n",
    "                                 batch_size=1,\n",
    "                                 data_path=f\"../datasets/{dataset_name}\")\n",
    "dataset_pythia.load_data()\n",
    "sentences = np.array(dataset_pythia.dataset_raw[\"text\"])\n",
    "save_dir_pythia = f\"../players/{dataset_name}/players-pythia\"\n",
    "\n",
    "print(len(sentences))"
   ]
  },
  {
   "cell_type": "code",
   "execution_count": 9,
   "id": "2fc4bf98825e125c",
   "metadata": {
    "ExecuteTime": {
     "end_time": "2025-01-26T13:49:50.027269Z",
     "start_time": "2025-01-26T13:49:49.400036Z"
    }
   },
   "outputs": [],
   "source": [
    "player_words_all_with_idx = load_json(os.path.join(save_dir_pythia, 'player_words.json'))\n",
    "player_words_all = list(player_words_all_with_idx.values())\n",
    "sample_indices = [int(s) for s in player_words_all_with_idx.keys()]\n",
    "\n",
    "assert len(player_words_all) == len(sample_indices) == len(sentences)\n",
    "\n",
    "player_ids_all = get_player_ids_from_word(tokenizer=tokenizer_pythia,\n",
    "                                            sentences=sentences[sample_indices],\n",
    "                                            player_words_all=player_words_all,\n",
    "                                            save_dir=None)\n",
    "assert len(player_ids_all) == len(sample_indices)\n",
    "\n",
    "player_ids_all_with_idx = {f\"{idx}\": player_ids for idx, player_ids in zip(sample_indices, player_ids_all)}\n",
    "save_json(player_ids_all_with_idx, save_dir_pythia, 'player_ids_from_word.json')"
   ]
  },
  {
   "cell_type": "markdown",
   "id": "8b972869e68e413c",
   "metadata": {},
   "source": [
    "Get player ids for **Qwen2.5** model family.\n",
    "\n",
    "Use the pre-selected player words from `preprocess_squad.ipynb`."
   ]
  },
  {
   "cell_type": "code",
   "execution_count": 11,
   "id": "a86e6dbcc5c241c2",
   "metadata": {
    "ExecuteTime": {
     "end_time": "2025-02-03T05:45:51.269920Z",
     "start_time": "2025-02-03T05:45:50.739635Z"
    }
   },
   "outputs": [
    {
     "name": "stderr",
     "output_type": "stream",
     "text": [
      "The tokenizer class you load from this checkpoint is not the same type as the class this function is called from. It may result in unexpected tokenization. \n",
      "The tokenizer class you load from this checkpoint is 'Qwen2Tokenizer'. \n",
      "The class this function is called from is 'Qwen2TokenizerModified'.\n"
     ]
    }
   ],
   "source": [
    "from models.nlp import Qwen2TokenizerModified\n",
    "\n",
    "tokenizer_qwen = Qwen2TokenizerModified.from_pretrained(\"Qwen/Qwen2.5-1.5B\", add_prefix_space=True)\n",
    "# todo: remember to add add_prefix_space=True!!"
   ]
  },
  {
   "cell_type": "code",
   "execution_count": 12,
   "id": "651597320b47da42",
   "metadata": {
    "ExecuteTime": {
     "end_time": "2025-02-03T05:45:53.751179Z",
     "start_time": "2025-02-03T05:45:53.740438Z"
    }
   },
   "outputs": [
    {
     "name": "stdout",
     "output_type": "stream",
     "text": [
      "<|endoftext|>\n",
      "151643\n",
      "<|endoftext|>\n",
      "None\n",
      "None\n",
      "[23811, 1879]\n",
      "[220, 23811, 1879]\n"
     ]
    }
   ],
   "source": [
    "print(tokenizer_qwen.pad_token)\n",
    "print(tokenizer_qwen.pad_token_id)\n",
    "print(tokenizer_qwen.decode(tokenizer_qwen.pad_token_id))\n",
    "print(tokenizer_qwen.unk_token)\n",
    "print(tokenizer_qwen.unk_token_id)\n",
    "text = \"hello world\"\n",
    "print(tokenizer_qwen.encode(text))\n",
    "print(tokenizer_qwen.encode(' ' + text))"
   ]
  },
  {
   "cell_type": "code",
   "execution_count": 13,
   "id": "31c814b96aedf56e",
   "metadata": {
    "ExecuteTime": {
     "end_time": "2025-02-03T05:46:33.639286Z",
     "start_time": "2025-02-03T05:46:29.328363Z"
    }
   },
   "outputs": [
    {
     "name": "stderr",
     "output_type": "stream",
     "text": [
      "Map: 100%|██████████| 753/753 [00:00<00:00, 965.49 examples/s] "
     ]
    },
    {
     "name": "stdout",
     "output_type": "stream",
     "text": [
      "753\n"
     ]
    },
    {
     "name": "stderr",
     "output_type": "stream",
     "text": [
      "\n"
     ]
    }
   ],
   "source": [
    "dataset_qwen = get_dataset_nlp(dataset_name=dataset_name,\n",
    "                                 mode=\"eval\",\n",
    "                                 tokenizer=tokenizer_qwen,\n",
    "                                 batch_size=1,\n",
    "                                 data_path=f\"../datasets/{dataset_name}\")\n",
    "dataset_qwen.load_data()\n",
    "sentences = np.array(dataset_qwen.dataset_raw[\"text\"])\n",
    "save_dir_qwen = f\"../players/{dataset_name}/players-qwen\"\n",
    "\n",
    "print(len(sentences))"
   ]
  },
  {
   "cell_type": "code",
   "execution_count": 14,
   "id": "485f09e1e625313b",
   "metadata": {
    "ExecuteTime": {
     "end_time": "2025-02-03T05:46:50.090693Z",
     "start_time": "2025-02-03T05:46:49.288908Z"
    }
   },
   "outputs": [],
   "source": [
    "player_words_all_with_idx = load_json(os.path.join(save_dir_qwen, 'player_words.json'))\n",
    "player_words_all = list(player_words_all_with_idx.values())\n",
    "sample_indices = [int(s) for s in player_words_all_with_idx.keys()]\n",
    "\n",
    "assert len(player_words_all) == len(sample_indices) == len(sentences)\n",
    "\n",
    "player_ids_all = get_player_ids_from_word(tokenizer=tokenizer_qwen,\n",
    "                                            sentences=sentences[sample_indices],\n",
    "                                            player_words_all=player_words_all,\n",
    "                                            save_dir=None)\n",
    "assert len(player_ids_all) == len(sample_indices)\n",
    "\n",
    "player_ids_all_with_idx = {f\"{idx}\": player_ids for idx, player_ids in zip(sample_indices, player_ids_all)}\n",
    "save_json(player_ids_all_with_idx, save_dir_qwen, 'player_ids_from_word.json')"
   ]
  },
  {
   "cell_type": "code",
   "execution_count": null,
   "id": "dadb143279e0d6b2",
   "metadata": {},
   "outputs": [],
   "source": []
  }
 ],
 "metadata": {
  "kernelspec": {
   "display_name": "Python 3",
   "language": "python",
   "name": "python3"
  },
  "language_info": {
   "codemirror_mode": {
    "name": "ipython",
    "version": 2
   },
   "file_extension": ".py",
   "mimetype": "text/x-python",
   "name": "python",
   "nbconvert_exporter": "python",
   "pygments_lexer": "ipython2",
   "version": "3.8.20"
  }
 },
 "nbformat": 4,
 "nbformat_minor": 5
}
